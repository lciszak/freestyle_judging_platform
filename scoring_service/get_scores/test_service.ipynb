{
 "cells": [
  {
   "cell_type": "code",
   "execution_count": 1,
   "id": "231cbe99-d864-4ef6-8523-a06b52a6b060",
   "metadata": {},
   "outputs": [],
   "source": [
    "from get_scores import get_scores"
   ]
  },
  {
   "cell_type": "code",
   "execution_count": 2,
   "id": "e508aca4-1fb8-4960-9005-bfc4f7302278",
   "metadata": {},
   "outputs": [],
   "source": [
    "scores=get_scores()"
   ]
  },
  {
   "cell_type": "code",
   "execution_count": 3,
   "id": "0276fdae-57ab-4aab-ae9e-129b6b9ef446",
   "metadata": {},
   "outputs": [
    {
     "data": {
      "text/plain": [
       "'<html><head></head><body>No results to summarize</body></html>'"
      ]
     },
     "execution_count": 3,
     "metadata": {},
     "output_type": "execute_result"
    }
   ],
   "source": [
    "scores"
   ]
  }
 ],
 "metadata": {
  "kernelspec": {
   "display_name": "Python 3 (ipykernel)",
   "language": "python",
   "name": "python3"
  },
  "language_info": {
   "codemirror_mode": {
    "name": "ipython",
    "version": 3
   },
   "file_extension": ".py",
   "mimetype": "text/x-python",
   "name": "python",
   "nbconvert_exporter": "python",
   "pygments_lexer": "ipython3",
   "version": "3.9.13"
  }
 },
 "nbformat": 4,
 "nbformat_minor": 5
}
